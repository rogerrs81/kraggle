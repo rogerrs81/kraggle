{
 "cells": [
  {
   "cell_type": "code",
   "execution_count": 63,
   "id": "ade1ce92",
   "metadata": {},
   "outputs": [
    {
     "name": "stderr",
     "output_type": "stream",
     "text": [
      "INFO : simple message\n",
      "17:35:58: simple message\n"
     ]
    }
   ],
   "source": [
    "data = [i for i in range(113)]\n",
    "import logging\n",
    "\n",
    "logger = logging.getLogger('simple_example')\n",
    "# logger.setLevel(logging.DEBUG)\n",
    "# console = logging.StreamHandler()\n",
    "# console.setLevel(level=logging.DEBUG)\n",
    "# formatter =  logging.Formatter('%(levelname)s : %(message)s')\n",
    "# console.setFormatter(formatter)\n",
    "# logger.addHandler(console)\n",
    "\n",
    "logger.info('simple message')\n"
   ]
  },
  {
   "cell_type": "code",
   "execution_count": 46,
   "id": "fb9d03fa",
   "metadata": {},
   "outputs": [
    {
     "name": "stdout",
     "output_type": "stream",
     "text": [
      "[[0, 1, 2, 3, 4, 5, 6, 7, 8, 9, 10, 11, 12, 13, 14, 15, 16, 17, 18, 19, 20, 21, 22, 23, 24, 25, 26, 27, 28, 29, 30, 31, 32, 33, 34, 35, 36, 37, 38, 39, 40, 41, 42, 43, 44, 45, 46, 47, 48, 49, 50, 51, 52, 53, 54, 55], [56, 57, 58, 59, 60, 61, 62, 63, 64, 65, 66, 67, 68, 69, 70, 71, 72, 73, 74, 75, 76, 77, 78, 79, 80, 81, 82, 83, 84, 85, 86, 87, 88, 89, 90, 91, 92, 93, 94, 95, 96, 97, 98, 99, 100, 101, 102, 103, 104, 105, 106, 107, 108, 109, 110, 111, 112]]\n"
     ]
    }
   ],
   "source": [
    "threads = 2\n",
    "data_list = [[row for row in data[int((len(data)/threads)*i):int((len(data)/threads)*(i+1))]] for i in range(threads)]\n",
    "print(models_list)"
   ]
  },
  {
   "cell_type": "code",
   "execution_count": 8,
   "id": "7636bb88",
   "metadata": {},
   "outputs": [
    {
     "name": "stdout",
     "output_type": "stream",
     "text": [
      "1\n",
      "2\n",
      "3\n",
      "4\n",
      "5\n",
      "6\n",
      "7\n",
      "8\n",
      "9\n"
     ]
    }
   ],
   "source": [
    "for i in range(1,10):\n",
    "    print(i)"
   ]
  },
  {
   "cell_type": "code",
   "execution_count": 39,
   "id": "0bf54867",
   "metadata": {},
   "outputs": [
    {
     "name": "stderr",
     "output_type": "stream",
     "text": [
      "13:52:51: Main    : before creating thread 0\n",
      "13:52:51: Main    : before running thread 0\n",
      "13:52:51: Thread 0: starting\n",
      "13:52:51: Main    : wait for the thread to finish 0\n",
      "13:52:51: Main    : before creating thread 1\n",
      "13:52:51: Main    : before running thread 1\n",
      "13:52:51: Thread 1: starting\n",
      "13:52:51: Main    : wait for the thread to finish 1\n",
      "13:52:51: Main    : before creating thread 2\n",
      "13:52:51: Main    : before running thread 2\n",
      "13:52:51: Thread 2: starting\n",
      "13:52:51: Main    : wait for the thread to finish 2\n",
      "13:52:51: Main    : before creating thread 3\n",
      "13:52:51: Main    : before running thread 3\n",
      "13:52:51: Thread 3: starting\n",
      "13:52:51: Main    : wait for the thread to finish 3\n",
      "13:52:51: Main    : before creating thread 4\n",
      "13:52:51: Main    : before running thread 4\n",
      "13:52:51: Thread 4: starting\n",
      "13:52:51: Main    : wait for the thread to finish 4\n",
      "13:52:51: Main    : before creating thread 5\n",
      "13:52:51: Main    : before running thread 5\n",
      "13:52:51: Thread 5: starting\n",
      "13:52:51: Main    : wait for the thread to finish 5\n",
      "13:52:51: Main    : before creating thread 6\n",
      "13:52:51: Main    : before running thread 6\n",
      "13:52:51: Thread 6: starting\n",
      "13:52:51: Main    : wait for the thread to finish 6\n",
      "13:52:51: Main    : before creating thread 7\n",
      "13:52:51: Main    : before running thread 7\n",
      "13:52:51: Thread 7: starting\n",
      "13:52:51: Main    : wait for the thread to finish 7\n",
      "13:52:51: Main    : before creating thread 8\n",
      "13:52:51: Main    : before running thread 8\n",
      "13:52:51: Thread 8: starting\n",
      "13:52:51: Main    : wait for the thread to finish 8\n",
      "13:52:51: Main    : before creating thread 9\n",
      "13:52:51: Main    : before running thread 9\n",
      "13:52:51: Thread 9: starting\n",
      "13:52:51: Main    : wait for the thread to finish 9\n",
      "13:52:51: Main    : all done\n",
      "13:52:53: Thread 0: finishing\n",
      "13:52:53: Thread 1: finishing\n",
      "13:52:53: Thread 2: finishing\n",
      "13:52:53: Thread 3: finishing\n",
      "13:52:53: Thread 4: finishing\n",
      "13:52:53: Thread 5: finishing\n",
      "13:52:53: Thread 6: finishing\n",
      "13:52:53: Thread 7: finishing\n",
      "13:52:53: Thread 8: finishing\n",
      "13:52:53: Thread 9: finishing\n"
     ]
    }
   ],
   "source": [
    "import logging\n",
    "import threading\n",
    "import time\n",
    "\n",
    "def thread_function(name):\n",
    "    logging.info(\"Thread %s: starting\", name)\n",
    "    time.sleep(2)\n",
    "    logging.info(\"Thread %s: finishing\", name)\n",
    "\n",
    "if __name__ == \"__main__\":\n",
    "    format = \"%(asctime)s: %(message)s\"\n",
    "    logging.basicConfig(format=format, level=logging.INFO,\n",
    "                        datefmt=\"%H:%M:%S\")\n",
    "    \n",
    "    for i in range(10):\n",
    "        logging.info(f\"Main    : before creating thread {i}\")\n",
    "        x = threading.Thread(target=thread_function, args=(i,))\n",
    "        logging.info(f\"Main    : before running thread {i}\")\n",
    "        x.start()\n",
    "        logging.info(f\"Main    : wait for the thread to finish {i}\")\n",
    "    logging.info(\"Main    : all done\")"
   ]
  },
  {
   "cell_type": "code",
   "execution_count": 57,
   "id": "f95c606e",
   "metadata": {},
   "outputs": [
    {
     "name": "stderr",
     "output_type": "stream",
     "text": [
      "16:08:22: Main    : create and start thread 0.\n"
     ]
    },
    {
     "name": "stdout",
     "output_type": "stream",
     "text": [
      "['_target', '_name', '_args', '_kwargs', '_daemonic', '_ident', '_native_id', '_tstate_lock', '_started', '_is_stopped', '_initialized', '_stderr', '_invoke_excepthook', '__module__', '__doc__', '__init__', '_reset_internal_locks', '__repr__', 'start', 'run', '_bootstrap', '_set_ident', '_set_native_id', '_set_tstate_lock', '_bootstrap_inner', '_stop', '_delete', 'join', '_wait_for_tstate_lock', 'name', 'ident', 'native_id', 'is_alive', 'isAlive', 'daemon', 'isDaemon', 'setDaemon', 'getName', 'setName', '__dict__', '__weakref__', '__hash__', '__str__', '__getattribute__', '__setattr__', '__delattr__', '__lt__', '__le__', '__eq__', '__ne__', '__gt__', '__ge__', '__new__', '__reduce_ex__', '__reduce__', '__subclasshook__', '__init_subclass__', '__format__', '__sizeof__', '__dir__', '__class__']\n"
     ]
    },
    {
     "name": "stderr",
     "output_type": "stream",
     "text": [
      "16:08:22: Thread 0: starting\n",
      "16:08:22: Thread 0: finishing\n"
     ]
    },
    {
     "ename": "TypeError",
     "evalue": "descriptor '__dir__' of 'object' object needs an argument",
     "output_type": "error",
     "traceback": [
      "\u001b[1;31m---------------------------------------------------------------------------\u001b[0m",
      "\u001b[1;31mTypeError\u001b[0m                                 Traceback (most recent call last)",
      "Cell \u001b[1;32mIn[57], line 22\u001b[0m\n\u001b[0;32m     20\u001b[0m     \u001b[38;5;28mprint\u001b[39m(x\u001b[38;5;241m.\u001b[39m\u001b[38;5;21m__dir__\u001b[39m())\n\u001b[0;32m     21\u001b[0m     x\u001b[38;5;241m.\u001b[39mstart()\n\u001b[1;32m---> 22\u001b[0m     \u001b[38;5;28mprint\u001b[39m(\u001b[43mthreading\u001b[49m\u001b[38;5;241;43m.\u001b[39;49m\u001b[43mThread\u001b[49m\u001b[38;5;241;43m.\u001b[39;49m\u001b[38;5;21;43m__dir__\u001b[39;49m\u001b[43m(\u001b[49m\u001b[43m)\u001b[49m)\n\u001b[0;32m     23\u001b[0m     threading\u001b[38;5;241m.\u001b[39mThread\u001b[38;5;241m.\u001b[39m_stop_all()\n\u001b[0;32m     25\u001b[0m \u001b[38;5;28;01mfor\u001b[39;00m index, thread \u001b[38;5;129;01min\u001b[39;00m \u001b[38;5;28menumerate\u001b[39m(threads):\n",
      "\u001b[1;31mTypeError\u001b[0m: descriptor '__dir__' of 'object' object needs an argument"
     ]
    }
   ],
   "source": [
    "import logging\n",
    "import threading\n",
    "import time\n",
    "\n",
    "def thread_function(name):\n",
    "    logging.info(\"Thread %s: starting\", name)\n",
    "    time.sleep(10*name)\n",
    "    logging.info(\"Thread %s: finishing\", name)\n",
    "\n",
    "if __name__ == \"__main__\":\n",
    "    format = \"%(asctime)s: %(message)s\"\n",
    "    logging.basicConfig(format=format, level=logging.INFO,\n",
    "                        datefmt=\"%H:%M:%S\")\n",
    "\n",
    "    threads = list()\n",
    "    for index in range(3):\n",
    "        logging.info(\"Main    : create and start thread %d.\", index)\n",
    "        x = threading.Thread(target=thread_function, args=(index,))\n",
    "        threads.append(x)\n",
    "        print(x.__dir__())\n",
    "        x.start()\n",
    "        print(threading.Thread.__dir__())\n",
    "        threading.Thread._stop_all()\n",
    "\n",
    "    for index, thread in enumerate(threads):\n",
    "        logging.info(\"Main    : before joining thread %d.\", index)\n",
    "        thread._delete()\n",
    "        logging.info(\"Main    : thread %d done\", index)\n",
    "    print(\"fin\")"
   ]
  },
  {
   "cell_type": "code",
   "execution_count": 55,
   "id": "76015f4a",
   "metadata": {},
   "outputs": [
    {
     "name": "stdout",
     "output_type": "stream",
     "text": [
      "1\n",
      "2\n"
     ]
    }
   ],
   "source": [
    "import time\n",
    "\n",
    "a = True\n",
    "while a:\n",
    "    print(1)\n",
    "    a = False\n",
    "    time.sleep(4)\n",
    "    print(2)"
   ]
  },
  {
   "cell_type": "code",
   "execution_count": null,
   "id": "9a108134",
   "metadata": {},
   "outputs": [],
   "source": []
  },
  {
   "cell_type": "code",
   "execution_count": null,
   "id": "4e07723b",
   "metadata": {},
   "outputs": [],
   "source": []
  }
 ],
 "metadata": {
  "kernelspec": {
   "display_name": "Python 3 (ipykernel)",
   "language": "python",
   "name": "python3"
  },
  "language_info": {
   "codemirror_mode": {
    "name": "ipython",
    "version": 3
   },
   "file_extension": ".py",
   "mimetype": "text/x-python",
   "name": "python",
   "nbconvert_exporter": "python",
   "pygments_lexer": "ipython3",
   "version": "3.8.2"
  }
 },
 "nbformat": 4,
 "nbformat_minor": 5
}
