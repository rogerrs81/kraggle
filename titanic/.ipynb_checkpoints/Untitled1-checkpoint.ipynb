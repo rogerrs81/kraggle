{
 "cells": [
  {
   "cell_type": "code",
   "execution_count": 21,
   "id": "6a679488",
   "metadata": {},
   "outputs": [
    {
     "name": "stdout",
     "output_type": "stream",
     "text": [
      "[0, 1, 2, 3, 4, 5, 6, 7, 8, 9, 10, 11, 12, 13, 14, 15, 16, 17, 18, 19, 20, 21, 22, 23, 24, 25, 26, 27, 28, 29, 30, 31, 32, 33, 34, 35, 36, 37, 38, 39, 40, 41, 42, 43, 44, 45, 46, 47, 48, 49, 50, 51, 52, 53, 54, 55, 56, 57, 58, 59, 60, 61, 62, 63, 64, 65, 66, 67, 68, 69, 70, 71, 72, 73, 74, 75, 76, 77, 78, 79, 80, 81, 82, 83, 84, 85, 86, 87, 88, 89, 90, 91, 92, 93, 94, 95, 96, 97, 98, 99, 100]\n"
     ]
    }
   ],
   "source": [
    "models = [i for i in range(113)]\n",
    "print(li)"
   ]
  },
  {
   "cell_type": "code",
   "execution_count": 23,
   "id": "afbe7c7d",
   "metadata": {},
   "outputs": [
    {
     "name": "stdout",
     "output_type": "stream",
     "text": [
      "[[0, 1, 2], [3, 4, 5], [6, 7, 8], [9, 10, 11], [12, 13, 14, 15], [16, 17, 18], [19, 20, 21], [22, 23, 24], [25, 26, 27, 28], [29, 30, 31], [32, 33, 34], [35, 36, 37], [38, 39, 40], [41, 42, 43, 44], [45, 46, 47], [48, 49, 50], [51, 52, 53], [54, 55, 56, 57], [58, 59, 60], [61, 62, 63], [64, 65, 66], [67, 68, 69, 70], [71, 72, 73], [74, 75, 76], [77, 78, 79], [80, 81, 82], [83, 84, 85, 86], [87, 88, 89], [90, 91, 92], [93, 94, 95], [96, 97, 98, 99], [100, 101, 102], [103, 104, 105], [106, 107, 108], [109, 110, 111, 112]]\n"
     ]
    }
   ],
   "source": [
    "size = 35\n",
    "models_list = [[model for model in models[int((len(models)/size)*i):int((len(models)/size)*(i+1))]] for i in range(size)]\n",
    "\n",
    "print(models_list)"
   ]
  },
  {
   "cell_type": "code",
   "execution_count": 8,
   "id": "978617d2",
   "metadata": {},
   "outputs": [
    {
     "name": "stdout",
     "output_type": "stream",
     "text": [
      "1\n",
      "2\n",
      "3\n",
      "4\n",
      "5\n",
      "6\n",
      "7\n",
      "8\n",
      "9\n"
     ]
    }
   ],
   "source": [
    "for i in range(1,10):\n",
    "    print(i)"
   ]
  },
  {
   "cell_type": "code",
   "execution_count": 34,
   "id": "12ae45e5",
   "metadata": {},
   "outputs": [
    {
     "name": "stderr",
     "output_type": "stream",
     "text": [
      "13:50:58: Main    : before creating thread 0\n",
      "13:50:58: Main    : before running thread 0\n",
      "13:50:58: Thread 0: starting\n",
      "13:50:58: Main    : wait for the thread to finish 0\n",
      "13:51:00: Thread 0: finishing\n",
      "13:51:00: Main    : before creating thread 1\n",
      "13:51:00: Main    : before running thread 1\n",
      "13:51:00: Thread 1: starting\n",
      "13:51:00: Main    : wait for the thread to finish 1\n",
      "13:51:02: Thread 1: finishing\n",
      "13:51:02: Main    : before creating thread 2\n",
      "13:51:02: Main    : before running thread 2\n",
      "13:51:02: Thread 2: starting\n",
      "13:51:02: Main    : wait for the thread to finish 2\n",
      "13:51:04: Thread 2: finishing\n",
      "13:51:04: Main    : before creating thread 3\n",
      "13:51:04: Main    : before running thread 3\n",
      "13:51:04: Thread 3: starting\n",
      "13:51:04: Main    : wait for the thread to finish 3\n",
      "13:51:06: Thread 3: finishing\n",
      "13:51:06: Main    : before creating thread 4\n",
      "13:51:06: Main    : before running thread 4\n",
      "13:51:06: Thread 4: starting\n",
      "13:51:06: Main    : wait for the thread to finish 4\n",
      "13:51:08: Thread 4: finishing\n",
      "13:51:08: Main    : before creating thread 5\n",
      "13:51:08: Main    : before running thread 5\n",
      "13:51:08: Thread 5: starting\n",
      "13:51:08: Main    : wait for the thread to finish 5\n",
      "13:51:10: Thread 5: finishing\n",
      "13:51:10: Main    : before creating thread 6\n",
      "13:51:10: Main    : before running thread 6\n",
      "13:51:10: Thread 6: starting\n",
      "13:51:10: Main    : wait for the thread to finish 6\n",
      "13:51:12: Thread 6: finishing\n",
      "13:51:12: Main    : before creating thread 7\n",
      "13:51:12: Main    : before running thread 7\n",
      "13:51:12: Thread 7: starting\n",
      "13:51:12: Main    : wait for the thread to finish 7\n",
      "13:51:14: Thread 7: finishing\n",
      "13:51:14: Main    : before creating thread 8\n",
      "13:51:14: Main    : before running thread 8\n",
      "13:51:14: Thread 8: starting\n",
      "13:51:14: Main    : wait for the thread to finish 8\n",
      "13:51:16: Thread 8: finishing\n",
      "13:51:16: Main    : before creating thread 9\n",
      "13:51:16: Main    : before running thread 9\n",
      "13:51:16: Thread 9: starting\n",
      "13:51:16: Main    : wait for the thread to finish 9\n",
      "13:51:18: Thread 9: finishing\n",
      "13:51:18: Main    : all done\n"
     ]
    }
   ],
   "source": [
    "import logging\n",
    "import threading\n",
    "import time\n",
    "\n",
    "def thread_function(name):\n",
    "    logging.info(\"Thread %s: starting\", name)\n",
    "    time.sleep(2)\n",
    "    logging.info(\"Thread %s: finishing\", name)\n",
    "\n",
    "if __name__ == \"__main__\":\n",
    "    format = \"%(asctime)s: %(message)s\"\n",
    "    logging.basicConfig(format=format, level=logging.INFO,\n",
    "                        datefmt=\"%H:%M:%S\")\n",
    "    \n",
    "    for i in range(10):\n",
    "        logging.info(f\"Main    : before creating thread {i}\")\n",
    "        x = threading.Thread(target=thread_function, args=(i,))\n",
    "        logging.info(f\"Main    : before running thread {i}\")\n",
    "        x.join()\n",
    "        logging.info(f\"Main    : wait for the thread to finish {i}\")\n",
    "        \n",
    "    logging.info(\"Main    : all done\")"
   ]
  },
  {
   "cell_type": "code",
   "execution_count": null,
   "id": "ee468112",
   "metadata": {},
   "outputs": [],
   "source": []
  }
 ],
 "metadata": {
  "kernelspec": {
   "display_name": "Python 3 (ipykernel)",
   "language": "python",
   "name": "python3"
  },
  "language_info": {
   "codemirror_mode": {
    "name": "ipython",
    "version": 3
   },
   "file_extension": ".py",
   "mimetype": "text/x-python",
   "name": "python",
   "nbconvert_exporter": "python",
   "pygments_lexer": "ipython3",
   "version": "3.8.2"
  }
 },
 "nbformat": 4,
 "nbformat_minor": 5
}
